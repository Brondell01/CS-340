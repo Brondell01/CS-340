from CRUD import AnimalShelter

firstState= {'animal_type': 'Jeff', 'name': 'test'}       
search={'animal_type': 'Jeff'}
secondState ={'animal_type': 'Jeff', 'name': 'updateTest'}

testCase = AnimalShelter()


testCase._init_('aacUser','password')


createSuccess = testCase.create(firstState)
print(createSuccess)
#createFailure = testCase.create()
#print(createFailure)

readSuccess= testCase.read(search)
for x in readSuccess:
    print(x)
#readFailure = testCase.read()
#print(readFailure)

updateSuccess = testCase.update(search,secondState)
print(updateSuccess)
#updateFailure = testCase.update(None, secondState)
#print(updateFailure)

readSuccess2 = testCase.read(search)
for x in readSuccess2:
    print(x)

deleteSuccess = testCase.delete(search)
print(deleteSuccess)
#deleteFailure = testCase.delete(None)
#print(deleteFailure)

